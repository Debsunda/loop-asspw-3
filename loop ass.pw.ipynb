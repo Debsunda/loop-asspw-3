{
 "cells": [
  {
   "cell_type": "code",
   "execution_count": 1,
   "id": "4eb208ab",
   "metadata": {},
   "outputs": [],
   "source": [
    "#Q1. Explain with an example each when to use a for loop and a while loop.\n",
    "#Ans: The for loop is used to repeat a section of code known number of times. Sometimes it is the computer that knows how many times, not you, but it is still known."
   ]
  },
  {
   "cell_type": "code",
   "execution_count": 8,
   "id": "ee8548d6",
   "metadata": {},
   "outputs": [
    {
     "name": "stdout",
     "output_type": "stream",
     "text": [
      "give the  numbers10\n",
      "1\n",
      "2\n",
      "3\n",
      "4\n",
      "5\n",
      "6\n",
      "7\n",
      "8\n",
      "9\n",
      "10\n"
     ]
    }
   ],
   "source": [
    "n=int(input(\"give the  numbers\"))\n",
    "for i in range(1,n+1):\n",
    "    print(i)"
   ]
  },
  {
   "cell_type": "code",
   "execution_count": 1,
   "id": "4d15a4b9",
   "metadata": {},
   "outputs": [
    {
     "name": "stdout",
     "output_type": "stream",
     "text": [
      "give your number346\n",
      "643\n"
     ]
    }
   ],
   "source": [
    "#ecxample of reversing a number using while loop\n",
    "n=int(input(\"give your number\"))\n",
    "rev=0\n",
    "while n>0:\n",
    "    rem=n%10\n",
    "    n=n//10\n",
    "    rev=(rev*10)+rem\n",
    "print(rev)"
   ]
  },
  {
   "cell_type": "code",
   "execution_count": 3,
   "id": "7655e822",
   "metadata": {},
   "outputs": [
    {
     "data": {
      "text/plain": [
       "55"
      ]
     },
     "execution_count": 3,
     "metadata": {},
     "output_type": "execute_result"
    }
   ],
   "source": [
    "#Q2. Write a python program to print the sum and product of the first 10 natural numbers using for\n",
    "#and while loop.\n",
    "n=10\n",
    "sum=0\n",
    "for i in range(1,11):\n",
    "    sum=sum+i\n",
    "sum"
   ]
  },
  {
   "cell_type": "code",
   "execution_count": null,
   "id": "2409ab52",
   "metadata": {},
   "outputs": [],
   "source": [
    "n=10\n",
    "i=1\n",
    "sum=0\n",
    "while i<=10:\n",
    "    sum=sum+i\n",
    "    i=i+1\n",
    "sum"
   ]
  },
  {
   "cell_type": "code",
   "execution_count": 2,
   "id": "f3ea612b",
   "metadata": {},
   "outputs": [
    {
     "data": {
      "text/plain": [
       "55"
      ]
     },
     "execution_count": 2,
     "metadata": {},
     "output_type": "execute_result"
    }
   ],
   "source": [
    "n=10\n",
    "i=1\n",
    "sum=0\n",
    "while i<=10:\n",
    "    sum=sum+i\n",
    "    i=i+1\n",
    "sum"
   ]
  },
  {
   "cell_type": "code",
   "execution_count": 4,
   "id": "8899bf5c",
   "metadata": {},
   "outputs": [
    {
     "name": "stdout",
     "output_type": "stream",
     "text": [
      "enter the unit345\n",
      "2250\n"
     ]
    }
   ],
   "source": [
    "#n=int(input(\"enter the unit\"))\n",
    "if n<=100:\n",
    "    bill=n*4.5\n",
    "elif n>=100 and n<=200:\n",
    "    bill= 450+(n-100)*6\n",
    "elif n>=200 and n<=300:\n",
    "    bill=450+600+(n-200)*10\n",
    "elif n>=300 and n<=310:\n",
    "    bill=450+600+1000+(n-300)*200\n",
    "else:\n",
    "    bill=2250\n",
    "print(bill)"
   ]
  },
  {
   "cell_type": "code",
   "execution_count": 7,
   "id": "f3d780b0",
   "metadata": {},
   "outputs": [
    {
     "data": {
      "text/plain": [
       "[1000, 8000, 27000, 64000, 125000, 216000, 343000, 512000, 729000, 1000000]"
      ]
     },
     "execution_count": 7,
     "metadata": {},
     "output_type": "execute_result"
    }
   ],
   "source": [
    "[i for i in range(1,101)]\n",
    "l1=[]\n",
    "l=[i**3 for i in range (1,101)]\n",
    "for i in l:\n",
    "    if i%4==0 and i%5==0:\n",
    "        l1.append(i)\n",
    "l1"
   ]
  },
  {
   "cell_type": "code",
   "execution_count": 8,
   "id": "7814d9de",
   "metadata": {},
   "outputs": [
    {
     "data": {
      "text/plain": [
       "12"
      ]
     },
     "execution_count": 8,
     "metadata": {},
     "output_type": "execute_result"
    }
   ],
   "source": [
    "string = \"I want to become a data scientist\"\n",
    "count=0\n",
    "vowel= set(\"aeiouAEIOU\")\n",
    "for i in string:\n",
    "    if i in vowel:\n",
    "        count=count+1\n",
    "count"
   ]
  },
  {
   "cell_type": "code",
   "execution_count": null,
   "id": "a6d9bfbe",
   "metadata": {},
   "outputs": [],
   "source": []
  }
 ],
 "metadata": {
  "kernelspec": {
   "display_name": "Python 3 (ipykernel)",
   "language": "python",
   "name": "python3"
  },
  "language_info": {
   "codemirror_mode": {
    "name": "ipython",
    "version": 3
   },
   "file_extension": ".py",
   "mimetype": "text/x-python",
   "name": "python",
   "nbconvert_exporter": "python",
   "pygments_lexer": "ipython3",
   "version": "3.10.9"
  }
 },
 "nbformat": 4,
 "nbformat_minor": 5
}
